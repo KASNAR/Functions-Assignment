{
  "nbformat": 4,
  "nbformat_minor": 0,
  "metadata": {
    "colab": {
      "provenance": []
    },
    "kernelspec": {
      "name": "python3",
      "display_name": "Python 3"
    },
    "language_info": {
      "name": "python"
    }
  },
  "cells": [
    {
      "cell_type": "code",
      "execution_count": null,
      "metadata": {
        "id": "QlPl744aIZaY",
        "colab": {
          "base_uri": "https://localhost:8080/"
        },
        "outputId": "e0537aec-5d7c-4d16-d3f1-950f20828d69"
      },
      "outputs": [
        {
          "output_type": "stream",
          "name": "stdout",
          "text": [
            "Sum of even numbers: 22\n"
          ]
        }
      ],
      "source": [
        "my_list = [10, 3, 4, 7, 8, 9]\n",
        "result = sum_of_evens(my_list)\n",
        "print(\"Sum of even numbers:\", result)"
      ]
    },
    {
      "cell_type": "code",
      "source": [
        "word = \"Python\"\n",
        "reversed_word = reverse_string(word)\n",
        "print(\"Reversed string:\", reversed_word)"
      ],
      "metadata": {
        "colab": {
          "base_uri": "https://localhost:8080/"
        },
        "id": "7FFQ5ViHK6i5",
        "outputId": "140266f0-ff50-4df6-ddad-16c23714f41e"
      },
      "execution_count": null,
      "outputs": [
        {
          "output_type": "stream",
          "name": "stdout",
          "text": [
            "Reversed string: nohtyP\n"
          ]
        }
      ]
    },
    {
      "cell_type": "code",
      "source": [
        "def square_numbers(numbers):\n",
        "    return [num ** 2 for num in numbers]\n",
        "my_list = [1, 2, 3, 4, 5]\n",
        "result = square_numbers(my_list)\n",
        "print(\"Squared numbers:\", result)\n",
        "\n",
        "\n"
      ],
      "metadata": {
        "colab": {
          "base_uri": "https://localhost:8080/"
        },
        "id": "6yG6l4teK72C",
        "outputId": "8bbf5121-6d73-4efe-f14e-1b13d2bbd731"
      },
      "execution_count": null,
      "outputs": [
        {
          "output_type": "stream",
          "name": "stdout",
          "text": [
            "Squared numbers: [1, 4, 9, 16, 25]\n"
          ]
        }
      ]
    },
    {
      "cell_type": "code",
      "source": [
        "for num in range(1, 201):\n",
        "    if is_prime(num):\n",
        "        print(f\"{num} is a prime number.\")"
      ],
      "metadata": {
        "colab": {
          "base_uri": "https://localhost:8080/"
        },
        "id": "2OFe-A30K7_x",
        "outputId": "0898ff99-d5c9-4972-d4d2-ed033e9706a0"
      },
      "execution_count": null,
      "outputs": [
        {
          "output_type": "stream",
          "name": "stdout",
          "text": [
            "2 is a prime number.\n",
            "3 is a prime number.\n",
            "5 is a prime number.\n",
            "7 is a prime number.\n",
            "11 is a prime number.\n",
            "13 is a prime number.\n",
            "17 is a prime number.\n",
            "19 is a prime number.\n",
            "23 is a prime number.\n",
            "29 is a prime number.\n",
            "31 is a prime number.\n",
            "37 is a prime number.\n",
            "41 is a prime number.\n",
            "43 is a prime number.\n",
            "47 is a prime number.\n",
            "53 is a prime number.\n",
            "59 is a prime number.\n",
            "61 is a prime number.\n",
            "67 is a prime number.\n",
            "71 is a prime number.\n",
            "73 is a prime number.\n",
            "79 is a prime number.\n",
            "83 is a prime number.\n",
            "89 is a prime number.\n",
            "97 is a prime number.\n",
            "101 is a prime number.\n",
            "103 is a prime number.\n",
            "107 is a prime number.\n",
            "109 is a prime number.\n",
            "113 is a prime number.\n",
            "127 is a prime number.\n",
            "131 is a prime number.\n",
            "137 is a prime number.\n",
            "139 is a prime number.\n",
            "149 is a prime number.\n",
            "151 is a prime number.\n",
            "157 is a prime number.\n",
            "163 is a prime number.\n",
            "167 is a prime number.\n",
            "173 is a prime number.\n",
            "179 is a prime number.\n",
            "181 is a prime number.\n",
            "191 is a prime number.\n",
            "193 is a prime number.\n",
            "197 is a prime number.\n",
            "199 is a prime number.\n"
          ]
        }
      ]
    },
    {
      "cell_type": "code",
      "source": [
        "\n",
        "fib = Fibonacci(10)\n",
        "\n",
        "for number in fib:\n",
        "    print(number)"
      ],
      "metadata": {
        "colab": {
          "base_uri": "https://localhost:8080/"
        },
        "id": "o2EwPHY3K8Iq",
        "outputId": "074eb20f-b6f9-449c-c41a-b9467da439df"
      },
      "execution_count": null,
      "outputs": [
        {
          "output_type": "stream",
          "name": "stdout",
          "text": [
            "0\n",
            "1\n",
            "1\n",
            "1\n",
            "2\n",
            "3\n",
            "5\n",
            "8\n",
            "13\n",
            "21\n"
          ]
        }
      ]
    },
    {
      "cell_type": "code",
      "source": [
        "for value in powers_of_two(5):\n",
        "    print(value)\n",
        "\n",
        "\n",
        "\n"
      ],
      "metadata": {
        "colab": {
          "base_uri": "https://localhost:8080/"
        },
        "id": "fB7sTu-pSXlB",
        "outputId": "f61c12c4-f7fa-43ba-b18e-d6d52b2a2a50"
      },
      "execution_count": null,
      "outputs": [
        {
          "output_type": "stream",
          "name": "stdout",
          "text": [
            "1\n",
            "2\n",
            "4\n",
            "8\n",
            "16\n",
            "32\n"
          ]
        }
      ]
    },
    {
      "cell_type": "code",
      "source": [
        "def read_file_line_by_line(file_path):\n",
        "    \"\"\"\n",
        "    Generator function that reads a file line by line.\n",
        "\n",
        "    :param file_path: Path to the file\n",
        "    :yield: Each line in the file as a string (including newline character)\n",
        "    \"\"\"\n",
        "    with open(file_path, 'r') as file:\n",
        "        for line in file:\n",
        "            yield line  # You can use line.rstrip('\\n') to remove newline if preferred"
      ],
      "metadata": {
        "id": "T2XyqSfpSXxT"
      },
      "execution_count": 5,
      "outputs": []
    },
    {
      "cell_type": "code",
      "source": [
        "data = [(1, 3), (4, 1), (2, 5), (3, 2)]\n",
        "sorted_data = sorted(data, key=lambda x: x[1])\n",
        "print(\"Sorted list:\", sorted_data)"
      ],
      "metadata": {
        "colab": {
          "base_uri": "https://localhost:8080/"
        },
        "id": "1qFZHsNISX6J",
        "outputId": "8bd2eb4d-ee2a-4ca3-d263-577cc25f3bc7"
      },
      "execution_count": null,
      "outputs": [
        {
          "output_type": "stream",
          "name": "stdout",
          "text": [
            "Sorted list: [(4, 1), (3, 2), (1, 3), (2, 5)]\n"
          ]
        }
      ]
    },
    {
      "cell_type": "code",
      "source": [
        "\n",
        "celsius_temps = [0, 20, 37, 100]\n",
        "fahrenheit_temps = list(map(lambda c: (c * 9/5) + 32, celsius_temps))\n",
        "print(\"Temperatures in Fahrenheit:\", fahrenheit_temps)"
      ],
      "metadata": {
        "colab": {
          "base_uri": "https://localhost:8080/"
        },
        "id": "Rc5zzPO-SYBn",
        "outputId": "72d37a3e-d8e7-45de-93ca-cd63a1055d6b"
      },
      "execution_count": null,
      "outputs": [
        {
          "output_type": "stream",
          "name": "stdout",
          "text": [
            "Temperatures in Fahrenheit: [32.0, 68.0, 98.6, 212.0]\n"
          ]
        }
      ]
    },
    {
      "cell_type": "code",
      "source": [
        "def remove_vowels(text):\n",
        "    vowels = \"aeiouAEIOU\"\n",
        "    return ''.join(filter(lambda char: char not in vowels, text))\n",
        "input_string = \"Hello, World!\"\n",
        "result = remove_vowels(input_string)\n",
        "print(\"String without vowels:\", result)"
      ],
      "metadata": {
        "colab": {
          "base_uri": "https://localhost:8080/"
        },
        "id": "5Ye5KnKYSYI2",
        "outputId": "2a9c4802-25dd-4406-8684-65595f4f8e69"
      },
      "execution_count": null,
      "outputs": [
        {
          "output_type": "stream",
          "name": "stdout",
          "text": [
            "String without vowels: Hll, Wrld!\n"
          ]
        }
      ]
    },
    {
      "cell_type": "code",
      "source": [
        "\n",
        "orders = [\n",
        "    [34587, \"Learning Python, Mark Lutz\", 4, 40.95],\n",
        "    [98762, \"Programming Python, Mark Lutz\", 5, 56.80],\n",
        "    [77226, \"Head First Python, Paul Barry\", 3, 32.95],\n",
        "    [88112, \"Einführung in Python3, Bernd Klein\", 3, 24.99]\n",
        "]\n",
        "final_orders = list(map(\n",
        "    lambda order: (\n",
        "        order[0],\n",
        "        round(order[2] * order[3] + (10 if order[2] * order[3] < 100 else 0), 2)\n",
        "    ),\n",
        "    orders\n",
        "))\n",
        "print(\"Processed Orders:\")\n",
        "for item in final_orders:\n",
        "    print(item)"
      ],
      "metadata": {
        "colab": {
          "base_uri": "https://localhost:8080/"
        },
        "id": "qNsv4WA1YZKq",
        "outputId": "b2257ac9-8bcc-4afe-8820-008a8df542c5"
      },
      "execution_count": null,
      "outputs": [
        {
          "output_type": "stream",
          "name": "stdout",
          "text": [
            "Processed Orders:\n",
            "(34587, 163.8)\n",
            "(98762, 284.0)\n",
            "(77226, 108.85)\n",
            "(88112, 84.97)\n"
          ]
        }
      ]
    },
    {
      "cell_type": "markdown",
      "source": [
        "1. What is the difference between a function and a method in Python?\n",
        "\n",
        "In Python, both functions and methods are blocks of reusable code that perform a specific task. However, there are some key differences between them:\n",
        "\n",
        " Function\n",
        "Definition: A function is defined using the def keyword, and it is not associated with an object.\n",
        "\n",
        "Can be called independently.\n",
        "\n",
        "Defined at the module level or inside another function."
      ],
      "metadata": {
        "id": "mMSG311iIfGS"
      }
    },
    {
      "cell_type": "code",
      "source": [
        "def greet(name):\n",
        "    return f\"Hello, {name}!\"\n",
        "\n",
        "print(greet(\"Kartik\"))"
      ],
      "metadata": {
        "colab": {
          "base_uri": "https://localhost:8080/"
        },
        "id": "ZAICOlbXJBqy",
        "outputId": "6d82e4ee-9af6-4c66-de0d-79658fea06c6"
      },
      "execution_count": null,
      "outputs": [
        {
          "output_type": "stream",
          "name": "stdout",
          "text": [
            "Hello, Kartik!\n"
          ]
        }
      ]
    },
    {
      "cell_type": "markdown",
      "source": [
        " Method\n",
        "Definition: A method is a function that belongs to an object (usually a class instance).\n",
        "\n",
        "It is called on an object, and the object is automatically passed as the first parameter (typically self).\n",
        "\n",
        "Defined inside a class."
      ],
      "metadata": {
        "id": "atAe84YiJH-C"
      }
    },
    {
      "cell_type": "code",
      "source": [
        "class Greeter:\n",
        "    def greet(self, name):\n",
        "        return f\"Hello, {name}!\"\n",
        "\n",
        "g = Greeter()\n",
        "print(g.greet(\"Kartik\"))"
      ],
      "metadata": {
        "colab": {
          "base_uri": "https://localhost:8080/"
        },
        "id": "EEMg5ACpJN4s",
        "outputId": "2216cd6f-89bf-43bb-a8d8-57ff555b3b1f"
      },
      "execution_count": null,
      "outputs": [
        {
          "output_type": "stream",
          "name": "stdout",
          "text": [
            "Hello, Kartik!\n"
          ]
        }
      ]
    },
    {
      "cell_type": "markdown",
      "source": [
        "2. Explain the concept of function arguments and parameters in Python.\n",
        "\n",
        "The terms arguments and parameters are often used interchangeably, but they have distinct meanings in Python:\n",
        "\n",
        " Parameters:\n",
        "Definition: Variables listed inside the parentheses in the function definition.\n",
        "\n",
        "These are placeholders for the values the function will receive when it is called."
      ],
      "metadata": {
        "id": "LrsfnEObJUZZ"
      }
    },
    {
      "cell_type": "code",
      "source": [
        "def greet(name, message):\n",
        "    print(f\"{message}, {name}!\")"
      ],
      "metadata": {
        "id": "4Fg1YrXhJh45"
      },
      "execution_count": null,
      "outputs": []
    },
    {
      "cell_type": "markdown",
      "source": [
        " Arguments:\n",
        "Definition: Actual values you pass to a function when calling it.\n",
        "\n",
        "These get assigned to the corresponding parameters."
      ],
      "metadata": {
        "id": "ErjXG01jJ3fr"
      }
    },
    {
      "cell_type": "code",
      "source": [
        "greet(\"Kartik\", \"Good Morning\")  # \"Kartik\" and \"Good Morning\" are arguments"
      ],
      "metadata": {
        "colab": {
          "base_uri": "https://localhost:8080/"
        },
        "id": "f2SO7CcSJ-pq",
        "outputId": "69079d6b-4dda-418e-bfa6-51ad30cf322d"
      },
      "execution_count": null,
      "outputs": [
        {
          "output_type": "stream",
          "name": "stdout",
          "text": [
            "Good Morning, Kartik!\n"
          ]
        }
      ]
    },
    {
      "cell_type": "markdown",
      "source": [
        "3. What are the different ways to define and call a function in Python?\n",
        "\n",
        "In Python, functions can be defined and called in multiple ways, depending on the need and flexibility required. Here’s a breakdown:\n",
        "\n",
        "Standard Function Definition\n",
        "Using the def keyword:"
      ],
      "metadata": {
        "id": "tkWSIdomKAkB"
      }
    },
    {
      "cell_type": "code",
      "source": [
        "def greet(name):\n",
        "    return f\"Hello, {name}!\""
      ],
      "metadata": {
        "id": "d6yQXjwiKLuS"
      },
      "execution_count": null,
      "outputs": []
    },
    {
      "cell_type": "markdown",
      "source": [
        "Function with Variable-Length Arguments\n",
        "*args: for variable number of positional arguments\n",
        "\n",
        "**kwargs: for variable number of keyword arguments"
      ],
      "metadata": {
        "id": "vKMFliDwKRrD"
      }
    },
    {
      "cell_type": "code",
      "source": [
        "def show_args(*args, **kwargs):\n",
        "    print(\"Args:\", args)\n",
        "    print(\"Kwargs:\", kwargs)"
      ],
      "metadata": {
        "id": "jVmmT_0PKWUD"
      },
      "execution_count": null,
      "outputs": []
    },
    {
      "cell_type": "markdown",
      "source": [
        "Ways to Call a Function\n",
        "1. Positional Arguments"
      ],
      "metadata": {
        "id": "T_euIRLIKtpa"
      }
    },
    {
      "cell_type": "code",
      "source": [
        "greet(\"Kartik\")"
      ],
      "metadata": {
        "colab": {
          "base_uri": "https://localhost:8080/",
          "height": 36
        },
        "id": "ud50l7NOKvkq",
        "outputId": "cd6e64e3-7270-4d56-c6de-ea45ed6c8151"
      },
      "execution_count": null,
      "outputs": [
        {
          "output_type": "execute_result",
          "data": {
            "text/plain": [
              "'Hello, Kartik!'"
            ],
            "application/vnd.google.colaboratory.intrinsic+json": {
              "type": "string"
            }
          },
          "metadata": {},
          "execution_count": 11
        }
      ]
    },
    {
      "cell_type": "markdown",
      "source": [
        "Keyword Arguments"
      ],
      "metadata": {
        "id": "OQKKWrOaK1ga"
      }
    },
    {
      "cell_type": "markdown",
      "source": [
        "4. What is the purpose of the `return` statement in a Python function?\n",
        "\n",
        "The return statement in Python is used to send a value back to the caller of a function. It ends the function execution and passes the specified value back to where the function was called.\n",
        "\n"
      ],
      "metadata": {
        "id": "2uQF97xVLHlb"
      }
    },
    {
      "cell_type": "code",
      "source": [
        "def add(a, b):\n",
        "    return a + b\n",
        "\n",
        "result = add(3, 5)\n",
        "print(result)  # Output: 8"
      ],
      "metadata": {
        "colab": {
          "base_uri": "https://localhost:8080/"
        },
        "id": "1iDU9yE-LeM0",
        "outputId": "22789903-2558-47f7-b059-f5a93dd12492"
      },
      "execution_count": null,
      "outputs": [
        {
          "output_type": "stream",
          "name": "stdout",
          "text": [
            "8\n"
          ]
        }
      ]
    },
    {
      "cell_type": "markdown",
      "source": [
        "5. What are iterators in Python and how do they differ from iterables?\n",
        "\n",
        "In Python, iterables and iterators are both used to loop through data, but they are not the same.\n",
        "\n",
        "An iterable is any object you can loop over with a for loop.\n",
        "\n",
        "It implements the __iter__() method and returns an iterator.\n",
        "\n",
        "Examples: list, tuple, str, dict, set, etc.\n",
        "\n",
        "python\n",
        "Copy\n",
        "Edit\n"
      ],
      "metadata": {
        "id": "3Bl6SvU_Llpi"
      }
    },
    {
      "cell_type": "code",
      "source": [
        "my_list = [1, 2, 3]\n",
        "for item in my_list:  # my_list is iterable\n",
        "    print(item)"
      ],
      "metadata": {
        "colab": {
          "base_uri": "https://localhost:8080/"
        },
        "id": "vFzSL2ycL0m7",
        "outputId": "279beba6-7f75-45c0-81b4-c2e716f62b90"
      },
      "execution_count": null,
      "outputs": [
        {
          "output_type": "stream",
          "name": "stdout",
          "text": [
            "1\n",
            "2\n",
            "3\n"
          ]
        }
      ]
    },
    {
      "cell_type": "markdown",
      "source": [
        "An iterator is an object that remembers its position during iteration.\n",
        "\n",
        "It has two main methods:\n",
        "\n",
        "__iter__() → returns the iterator itself\n",
        "\n",
        "__next__() → returns the next item or raises StopIteration"
      ],
      "metadata": {
        "id": "0ql_ObAML5Qy"
      }
    },
    {
      "cell_type": "code",
      "source": [
        "my_list = [1, 2, 3]\n",
        "it = iter(my_list)   # create an iterator from the iterable\n",
        "\n",
        "print(next(it))  # 1\n",
        "print(next(it))  # 2\n",
        "print(next(it))  # 3\n",
        "# print(next(it))  # Raises StopIteration"
      ],
      "metadata": {
        "colab": {
          "base_uri": "https://localhost:8080/"
        },
        "id": "8u0oK1P8L6jR",
        "outputId": "53002968-5779-469d-fbb1-f1c7b54f3583"
      },
      "execution_count": null,
      "outputs": [
        {
          "output_type": "stream",
          "name": "stdout",
          "text": [
            "1\n",
            "2\n",
            "3\n"
          ]
        }
      ]
    },
    {
      "cell_type": "markdown",
      "source": [
        "6. Explain the concept of generators in Python and how they are defined.\n",
        "\n",
        "Generators in Python are a special type of iterator that allow you to generate values on the fly, instead of storing them all in memory. They are useful for working with large data, improving performance and efficiency.\n",
        "\n",
        "A generator is:\n",
        "\n",
        "A function that uses the yield keyword instead of return\n",
        "\n",
        "It returns a generator object that produces items one at a time\n",
        "\n",
        "It remembers its state between each call\n",
        "\n",
        "How to Define a Generator\n",
        "Using a Generator Function:"
      ],
      "metadata": {
        "id": "QLOdP6JTMKzS"
      }
    },
    {
      "cell_type": "code",
      "source": [
        "def count_up_to(n):\n",
        "    count = 1\n",
        "    while count <= n:\n",
        "        yield count  # pauses and returns value\n",
        "        count += 1"
      ],
      "metadata": {
        "id": "ZpHlqSVxNDxS"
      },
      "execution_count": null,
      "outputs": []
    },
    {
      "cell_type": "markdown",
      "source": [
        "Advantages of Generators:\n",
        "Efficient memory usage (no need to store large sequences)\n",
        "\n",
        "Faster for large datasets\n",
        "\n",
        "Can be infinite (like reading from a stream)"
      ],
      "metadata": {
        "id": "tksXkVAzNSOc"
      }
    },
    {
      "cell_type": "markdown",
      "source": [
        "7. What are the advantages of using generators over regular functions?\n",
        "\n",
        "Generators provide several benefits, especially when dealing with large data, streams, or performance-critical applications.\n",
        "\n",
        "op Advantages of Generators\n",
        "1. Memory Efficiency\n",
        "Regular functions build and return the entire data structure (e.g., list), which uses more memory.\n",
        "\n",
        "Generators yield one item at a time, don’t store all values in memory."
      ],
      "metadata": {
        "id": "vcGuWZFCNXda"
      }
    },
    {
      "cell_type": "code",
      "source": [
        "def gen_nums():\n",
        "    for i in range(1000000):\n",
        "        yield i"
      ],
      "metadata": {
        "id": "pPqKIRFiNk4B"
      },
      "execution_count": null,
      "outputs": []
    },
    {
      "cell_type": "markdown",
      "source": [
        "Lazy Evaluation\n",
        "Generators evaluate items only when needed using next().\n",
        "\n",
        "This is perfect for large/infinite sequences, like reading from a file or API."
      ],
      "metadata": {
        "id": "hbuGg17hNpPa"
      }
    },
    {
      "cell_type": "code",
      "source": [
        "def infinite_counter():\n",
        "    n = 1\n",
        "    while True:\n",
        "        yield n\n",
        "        n += 1"
      ],
      "metadata": {
        "id": "6ZngLIVsNs2x"
      },
      "execution_count": null,
      "outputs": []
    },
    {
      "cell_type": "markdown",
      "source": [
        "8. What is a lambda function in Python and when is it typically used?\n",
        "\n",
        "A lambda function in Python is a small, anonymous function defined using the lambda keyword. It is typically used for short, simple operations, especially where defining a full def function would be overkill.\n",
        "\n"
      ],
      "metadata": {
        "id": "_qrNPZzdN0Hz"
      }
    },
    {
      "cell_type": "code",
      "source": [
        "square = lambda x: x * x\n",
        "print(square(5))  # Output: 25"
      ],
      "metadata": {
        "colab": {
          "base_uri": "https://localhost:8080/"
        },
        "id": "c1NBAwnzN9Dz",
        "outputId": "72f9f6e5-791e-4221-dcd6-eae5dc55adc9"
      },
      "execution_count": null,
      "outputs": [
        {
          "output_type": "stream",
          "name": "stdout",
          "text": [
            "25\n"
          ]
        }
      ]
    },
    {
      "cell_type": "markdown",
      "source": [
        "Common Use Cases of Lambda Functions:\n",
        " Used with map()"
      ],
      "metadata": {
        "id": "dlET40QlOKZJ"
      }
    },
    {
      "cell_type": "code",
      "source": [
        "nums = [1, 2, 3]\n",
        "squares = list(map(lambda x: x ** 2, nums))  # [1, 4, 9]"
      ],
      "metadata": {
        "id": "YVIzzeCVOQBY"
      },
      "execution_count": null,
      "outputs": []
    },
    {
      "cell_type": "markdown",
      "source": [
        "Used with filter()\n",
        "Filter items in a list based on a condition:"
      ],
      "metadata": {
        "id": "pWOIlx4hOVkK"
      }
    },
    {
      "cell_type": "code",
      "source": [
        "nums = [1, 2, 3, 4, 5]\n",
        "evens = list(filter(lambda x: x % 2 == 0, nums))  # [2, 4]"
      ],
      "metadata": {
        "id": "DYV4OZ_lOWni"
      },
      "execution_count": null,
      "outputs": []
    },
    {
      "cell_type": "markdown",
      "source": [
        "9. Explain the purpose and usage of the `map()` function in Python.\n",
        "\n",
        "The map() function in Python is used to apply a function to every item in an iterable (like a list, tuple, etc.) and return a new iterator with the results.\n",
        "\n",
        " Purpose of map()\n",
        "To perform transformation or processing on each item in a sequence\n",
        "\n",
        "Avoids writing explicit for loops\n",
        "\n",
        "Makes code shorter, more readable, and efficient\n",
        "\n"
      ],
      "metadata": {
        "id": "f8o94LyfPI-B"
      }
    },
    {
      "cell_type": "code",
      "source": [
        "def square(x):\n",
        "    return x * x\n",
        "\n",
        "nums = [1, 2, 3, 4]\n",
        "squared = map(square, nums)\n",
        "print(list(squared))  # Output: [1, 4, 9, 16]"
      ],
      "metadata": {
        "colab": {
          "base_uri": "https://localhost:8080/"
        },
        "id": "dN2NUjPTPRZc",
        "outputId": "99c4d0f7-c0fb-40c0-deaa-b983a699dfab"
      },
      "execution_count": null,
      "outputs": [
        {
          "output_type": "stream",
          "name": "stdout",
          "text": [
            "[1, 4, 9, 16]\n"
          ]
        }
      ]
    },
    {
      "cell_type": "markdown",
      "source": [
        "10. What is the difference between `map()`, `reduce()`, and `filter()` functions in Python?\n",
        "\n",
        "All three — map(), filter(), and reduce() — are functional programming tools in Python that work with iterables. They help apply functions across elements of sequences like lists or tuples but serve different purposes.\n",
        "\n",
        " map() → Transforms Each Item\n",
        "Purpose: Applies a function to every item in an iterable and returns an iterator with the results"
      ],
      "metadata": {
        "id": "r9J85e_8PZ8Q"
      }
    },
    {
      "cell_type": "code",
      "source": [
        "nums = [1, 2, 3]\n",
        "squares = map(lambda x: x**2, nums)\n",
        "print(list(squares))  # Output: [1, 4, 9]"
      ],
      "metadata": {
        "colab": {
          "base_uri": "https://localhost:8080/"
        },
        "id": "QQBRZI9nPiuJ",
        "outputId": "8ba4dd3d-0b43-4b39-f422-3fc9a12b9362"
      },
      "execution_count": null,
      "outputs": [
        {
          "output_type": "stream",
          "name": "stdout",
          "text": [
            "[1, 4, 9]\n"
          ]
        }
      ]
    },
    {
      "cell_type": "markdown",
      "source": [
        "filter() → Filters Items Based on Condition\n",
        "Purpose: Applies a function that returns True or False to each item and filters only the items that return True."
      ],
      "metadata": {
        "id": "ewRy6dSwPnW4"
      }
    },
    {
      "cell_type": "code",
      "source": [
        "nums = [1, 2, 3, 4, 5]\n",
        "evens = filter(lambda x: x % 2 == 0, nums)\n",
        "print(list(evens))  # Output: [2, 4]"
      ],
      "metadata": {
        "colab": {
          "base_uri": "https://localhost:8080/"
        },
        "id": "26iganLwPoBw",
        "outputId": "8fb314fe-9fd2-486f-e2a9-8f258e6375d3"
      },
      "execution_count": null,
      "outputs": [
        {
          "output_type": "stream",
          "name": "stdout",
          "text": [
            "[2, 4]\n"
          ]
        }
      ]
    },
    {
      "cell_type": "markdown",
      "source": [
        "reduce() → Reduces Items to a Single Value\n",
        "Purpose: Repeatedly applies a function to pairs of items in a sequence, reducing it to a single value.\n",
        "\n",
        "Note: reduce() is not built-in; it must be imported from functools."
      ],
      "metadata": {
        "id": "8ytRF960PtWh"
      }
    },
    {
      "cell_type": "code",
      "source": [
        "from functools import reduce\n",
        "\n",
        "nums = [1, 2, 3, 4]\n",
        "product = reduce(lambda x, y: x * y, nums)\n",
        "print(product)  # Output: 24"
      ],
      "metadata": {
        "colab": {
          "base_uri": "https://localhost:8080/"
        },
        "id": "JVLPbYyEPuNx",
        "outputId": "17e14bfe-a0c7-4ac2-c3d5-a3458a27e41f"
      },
      "execution_count": null,
      "outputs": [
        {
          "output_type": "stream",
          "name": "stdout",
          "text": [
            "24\n"
          ]
        }
      ]
    },
    {
      "cell_type": "markdown",
      "source": [
        "11 Using pen & Paper write the internal mechanism for sum operation using  reduce function on this given\n",
        "list:[47,11,42,13];\n",
        "\n",
        "the internal mechanism of the reduce() function step-by-step by hand (pen & paper style) for the list:"
      ],
      "metadata": {
        "id": "v0XOxiuPP2i2"
      }
    },
    {
      "cell_type": "code",
      "source": [
        "[47, 11, 42, 13]"
      ],
      "metadata": {
        "colab": {
          "base_uri": "https://localhost:8080/"
        },
        "id": "b-IaCxb6QQvK",
        "outputId": "43ff029b-d7a0-435f-8d8f-f3b79f858515"
      },
      "execution_count": null,
      "outputs": [
        {
          "output_type": "execute_result",
          "data": {
            "text/plain": [
              "[47, 11, 42, 13]"
            ]
          },
          "metadata": {},
          "execution_count": 28
        }
      ]
    },
    {
      "cell_type": "markdown",
      "source": [
        "[47, 11, 42, 13]:\n",
        "Let func = lambda x, y: x + y\n",
        "\n",
        "Step 1:\n",
        "\n",
        "x = 47, y = 11\n",
        "result1 = 47 + 11 = 58\n",
        "\n",
        "\n",
        "\n",
        "Step 2:\n",
        "\n",
        "x = 58, y = 42\n",
        "result2 = 58 + 42 = 100\n",
        "\n",
        "\n",
        "\n",
        "Step 3:\n",
        "\n",
        "x = 100, y = 13\n",
        "result3 = 100 + 13 = 113\n"
      ],
      "metadata": {
        "id": "fAWzvDDxRGIm"
      }
    }
  ]
}